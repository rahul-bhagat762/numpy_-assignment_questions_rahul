{
 "cells": [
  {
   "cell_type": "raw",
   "id": "cc4485f3-496a-48e7-b5d6-c8629d04763c",
   "metadata": {},
   "source": [
    "# 1. What is a Python library? Why ^o we use Python libraries?\n",
    "As per real life example the meaning of library is collection book , similar to data the meaning of python library is the collectin of function .\n",
    "\n",
    ">>Python Library is the collection python muction which is used for different-different opertions.\n",
    ">>we use python libraries because it will help to reduce our time in writting of code of perticular operations\n",
    "with the use of these libraries we are able to call these libraries and solve our perticular operation"
   ]
  },
  {
   "cell_type": "raw",
   "id": "945b56a5-fdd0-4f06-9ede-5107333ee643",
   "metadata": {},
   "source": [
    "# 2. What is the Difference between Numpy array and List ?\n",
    "\n",
    "# >>Data type : In numpy array , all element must have the same data type , typically numeric,float,etc.\n",
    "# in contrast,python lists can contain elements of different data types\n",
    "\n",
    ">>Memory Efficiency :- Numpy arrays are more memory-efficient compared to python lists.This efficiency comes from the fixed data type requirement, which allows numpy to store data in a contigues block of memory\n",
    "\n",
    ">>Performance:- Numpy operation are often faster than equivalent operations performed on python lists, especially for large datasets,Numpy operations are implemented in c, which is generally faster then python buit in operations on lists\n",
    "\n",
    ">>functionality: Numpy provides a wide range of mathmetics functions abd operations that can be performed directly on arrays,  such as linear algebra operations, fourier trasforms,statistical functions, and more. Lists have fewer built-in - functions for numerical computations.\n",
    "\n",
    ">>syntax and usage >> Numpy arrays have a different syntax for indexing and slicing compard to python lists ,\n",
    "additionally numpy provide bradcasing, which allows mathematical operations to be performed between arrays of different shapes"
   ]
  },
  {
   "cell_type": "code",
   "execution_count": 1,
   "id": "539bf0f0-55be-41d7-b10c-4b7df86eef43",
   "metadata": {},
   "outputs": [],
   "source": [
    "# 3. Fin^ the shape, size and dimension of the following array?\n",
    "# [[1, 2, 3, 4]\n",
    "# [5, 6, 7, 8],\n",
    "# [9, 10, 11, 12]]\n",
    "import numpy as np\n",
    "arr = np.array([[1,2,3,4],[5,6,7,8],[9,10,11,12]])"
   ]
  },
  {
   "cell_type": "code",
   "execution_count": 2,
   "id": "695b76c7-08cc-45e7-a61e-9003a190431f",
   "metadata": {},
   "outputs": [
    {
     "data": {
      "text/plain": [
       "array([[ 1,  2,  3,  4],\n",
       "       [ 5,  6,  7,  8],\n",
       "       [ 9, 10, 11, 12]])"
      ]
     },
     "execution_count": 2,
     "metadata": {},
     "output_type": "execute_result"
    }
   ],
   "source": [
    "arr"
   ]
  },
  {
   "cell_type": "code",
   "execution_count": 3,
   "id": "80012b96-4ad3-423b-b301-bd57ea98a67f",
   "metadata": {},
   "outputs": [
    {
     "data": {
      "text/plain": [
       "12"
      ]
     },
     "execution_count": 3,
     "metadata": {},
     "output_type": "execute_result"
    }
   ],
   "source": [
    "arr.size"
   ]
  },
  {
   "cell_type": "code",
   "execution_count": 4,
   "id": "5530ec53-3b5e-407a-8fe8-48986918e7ef",
   "metadata": {},
   "outputs": [
    {
     "data": {
      "text/plain": [
       "2"
      ]
     },
     "execution_count": 4,
     "metadata": {},
     "output_type": "execute_result"
    }
   ],
   "source": [
    "arr.ndim"
   ]
  },
  {
   "cell_type": "code",
   "execution_count": 5,
   "id": "302a4354-acee-4dd2-98a9-5f431b782dfe",
   "metadata": {},
   "outputs": [
    {
     "data": {
      "text/plain": [
       "array([1, 2, 3, 4])"
      ]
     },
     "execution_count": 5,
     "metadata": {},
     "output_type": "execute_result"
    }
   ],
   "source": [
    "# 4. Write python code to access the first row of the following array ?\n",
    "# [[1, 2, 3, 4]\n",
    "# [5, 6, 7, 8],\n",
    "# [9, 10, 11, 12]]\n",
    "arr[0]"
   ]
  },
  {
   "cell_type": "code",
   "execution_count": 6,
   "id": "60fc1521-a9d2-4cd4-8967-6679e988c8bd",
   "metadata": {},
   "outputs": [
    {
     "data": {
      "text/plain": [
       "array([12])"
      ]
     },
     "execution_count": 6,
     "metadata": {},
     "output_type": "execute_result"
    }
   ],
   "source": [
    "# 5. How ^o you access the element at the thir^ row an^ fourth column from the given numpy array?\n",
    "# [[1, 2, 3, 4]\n",
    "# [5, 6, 7, 8],\n",
    "# [9, 10, 11, 12]]\n",
    "\n",
    "arr[2,[3]]\n"
   ]
  },
  {
   "cell_type": "code",
   "execution_count": 7,
   "id": "17f46958-cfdb-4221-953e-2ef18f8a4c5c",
   "metadata": {},
   "outputs": [
    {
     "data": {
      "text/plain": [
       "array([ 2,  4,  6,  8, 10, 12])"
      ]
     },
     "execution_count": 7,
     "metadata": {},
     "output_type": "execute_result"
    }
   ],
   "source": [
    "# 6. Write co^e to extract all o^^-in^exe^ elements from the given numpy array?\n",
    "# [[1, 2, 3, 4]\n",
    "# [5, 6, 7, 8],\n",
    "# [9, 10, 11, 12]]\n",
    "\n",
    "arr[arr%2==0]"
   ]
  },
  {
   "cell_type": "code",
   "execution_count": 8,
   "id": "7d35b7db-25a3-4e5e-86a3-f03cf6faaa78",
   "metadata": {},
   "outputs": [
    {
     "data": {
      "text/plain": [
       "array([[0.69278424, 0.651258  , 0.33791508],\n",
       "       [0.77612406, 0.67404976, 0.66500344],\n",
       "       [0.21011594, 0.56500086, 0.01692483]])"
      ]
     },
     "execution_count": 8,
     "metadata": {},
     "output_type": "execute_result"
    }
   ],
   "source": [
    "# 7. How can you generate a ran^om 3x3 matrix with values between 0 an^ 1?\n",
    "np.random.rand(3,3)"
   ]
  },
  {
   "cell_type": "code",
   "execution_count": 9,
   "id": "6e67a5c2-5518-4f28-8467-b1259d3f7a3d",
   "metadata": {},
   "outputs": [],
   "source": [
    "# 8. Describe the ^ifference between np.ran^om.ran^ an^ np.ran^om.ran^n?\n",
    "# np.random.rand(3,2) # Generates a 3x2 array of random numbers between 0 and 1\n",
    "# >>This function genertes random numbers from a uniform distribution over the range '[0,1)'\n",
    "# >>It returns an array of specified shape where each element is sampled uniformly from the half-open interval '[0,1)'.\n",
    "# >>It takes dimmension as arguments rather than th mean and standard deviation \n",
    "\n",
    "# np.random.randn(3,2)   # Generates a 3x2 array of random numbers from the standard normal distribution\n",
    "# >> This function generates random numbers from a standard normal distribution (mean 0, standard deviation 1),also known as a Gaussian distribution  or the standard normal distribution\n",
    "# >> It reurns an array of specified shape where each element is sampled from a standard normal distribution with mean 0 and standard deviation 1\n"
   ]
  },
  {
   "cell_type": "code",
   "execution_count": 14,
   "id": "bab272f8-ccbe-440a-b556-e2af954959d4",
   "metadata": {},
   "outputs": [
    {
     "data": {
      "text/plain": [
       "array([[[ 1,  2,  3,  4],\n",
       "        [ 5,  6,  7,  8],\n",
       "        [ 9, 10, 11, 12]]])"
      ]
     },
     "execution_count": 14,
     "metadata": {},
     "output_type": "execute_result"
    }
   ],
   "source": [
    "# 9. Write co^e to increase the ^imension of the following array?\n",
    "# [[1, 2, 3, 4]\n",
    "# [5, 6, 7, 8],\n",
    "# [9, 10, 11, 12]]\n",
    "np.expand_dims(arr,axis=0)"
   ]
  },
  {
   "cell_type": "code",
   "execution_count": 16,
   "id": "634ff943-61e8-4f1e-8129-040b0e405ef2",
   "metadata": {},
   "outputs": [
    {
     "data": {
      "text/plain": [
       "array([[ 1,  5,  9],\n",
       "       [ 2,  6, 10],\n",
       "       [ 3,  7, 11],\n",
       "       [ 4,  8, 12]])"
      ]
     },
     "execution_count": 16,
     "metadata": {},
     "output_type": "execute_result"
    }
   ],
   "source": [
    "# 10. How to transpose the following array in NumPy?\n",
    "# [[1, 2, 3, 4]\n",
    "# [5, 6, 7, 8],\n",
    "# [9, 10, 11, 12]]\n",
    "arr.T"
   ]
  },
  {
   "cell_type": "code",
   "execution_count": 24,
   "id": "8c6f8445-1099-4541-8153-95a94a5259c4",
   "metadata": {},
   "outputs": [],
   "source": [
    "# 11. Consi^er the following matrix:\n",
    "# Matrix A2 [[1, 2, 3, 4] [5, 6, 7, 8],[9, 10, 11, 12]]\n",
    "# Matrix B2 [[1, 2, 3, 4] [5, 6, 7, 8],[9, 10, 11, 12]]\n",
    "\n",
    "a = np.array( [[1, 2, 3, 4],[5, 6, 7, 8],[9, 10, 11, 12]])\n",
    "b = np.array( [[1, 2, 3, 4],[5, 6, 7, 8],[9, 10, 11, 12]])"
   ]
  },
  {
   "cell_type": "code",
   "execution_count": 25,
   "id": "1b5536db-1e4c-4047-810b-d2737ad52d50",
   "metadata": {},
   "outputs": [
    {
     "data": {
      "text/plain": [
       "array([[  1,   4,   9,  16],\n",
       "       [ 25,  36,  49,  64],\n",
       "       [ 81, 100, 121, 144]])"
      ]
     },
     "execution_count": 25,
     "metadata": {},
     "output_type": "execute_result"
    }
   ],
   "source": [
    "# index wiLe multiplicatio'\n",
    "a*b\n"
   ]
  },
  {
   "cell_type": "code",
   "execution_count": 30,
   "id": "56364e24-f529-4e8e-8744-22e0b3476fd2",
   "metadata": {},
   "outputs": [
    {
     "name": "stdout",
     "output_type": "stream",
     "text": [
      "[[ 30  70 110]\n",
      " [ 70 174 278]\n",
      " [110 278 446]]\n"
     ]
    }
   ],
   "source": [
    "##Matrix multiplication\n",
    "# a @ b\n",
    "result = np.matmul(a,b.T)\n",
    "print(result)"
   ]
  },
  {
   "cell_type": "code",
   "execution_count": 31,
   "id": "8ab92c62-1903-44e6-bf93-78b5f771cfa3",
   "metadata": {},
   "outputs": [
    {
     "data": {
      "text/plain": [
       "array([[ 2,  4,  6,  8],\n",
       "       [10, 12, 14, 16],\n",
       "       [18, 20, 22, 24]])"
      ]
     },
     "execution_count": 31,
     "metadata": {},
     "output_type": "execute_result"
    }
   ],
   "source": [
    "##Add both matrics\n",
    "a + b"
   ]
  },
  {
   "cell_type": "code",
   "execution_count": 32,
   "id": "f808e7fc-0330-42e2-86db-dbc292a0480b",
   "metadata": {},
   "outputs": [
    {
     "data": {
      "text/plain": [
       "array([[0, 0, 0, 0],\n",
       "       [0, 0, 0, 0],\n",
       "       [0, 0, 0, 0]])"
      ]
     },
     "execution_count": 32,
     "metadata": {},
     "output_type": "execute_result"
    }
   ],
   "source": [
    "# Subtract matrix b from a\n",
    "b -a"
   ]
  },
  {
   "cell_type": "code",
   "execution_count": 33,
   "id": "52dd3eac-e161-4b6d-bc32-d549555efe6d",
   "metadata": {},
   "outputs": [
    {
     "data": {
      "text/plain": [
       "array([[1., 1., 1., 1.],\n",
       "       [1., 1., 1., 1.],\n",
       "       [1., 1., 1., 1.]])"
      ]
     },
     "execution_count": 33,
     "metadata": {},
     "output_type": "execute_result"
    }
   ],
   "source": [
    "# Divide matrix  b by a \n",
    "b / a"
   ]
  },
  {
   "cell_type": "code",
   "execution_count": 37,
   "id": "f152bbbf-1630-47db-877d-3301fe3da6bf",
   "metadata": {},
   "outputs": [
    {
     "name": "stdout",
     "output_type": "stream",
     "text": [
      "Original array\n",
      "[     1    256 655536]\n",
      "After swap:\n",
      "[   16777216       65536 -1342174720]\n"
     ]
    }
   ],
   "source": [
    "# 12. Which function in Numpy can be used to swap the byte order of an array?\n",
    "\n",
    "arr = np.array([1,256,655536],dtype = np.int32)\n",
    "print(\"Original array\")\n",
    "print(arr)\n",
    "\n",
    "swapped = arr.byteswap()\n",
    "\n",
    "# print(\"original array:\",arr)\n",
    "print(\"After swap:\")\n",
    "print(swapped)"
   ]
  },
  {
   "cell_type": "code",
   "execution_count": null,
   "id": "28508710-488b-4095-b40b-5ad6f41aefa5",
   "metadata": {},
   "outputs": [],
   "source": [
    "# 13. What is the significance of the np.linalg.inv function?\n",
    "# >>The np.linalg.inv function in NumPy is used to compute the inverse of a square matrix. \n",
    "# >>The significance of this function lies in its applications across various fields of mathematics, science, engineering, and data analysis.\n",
    "\n",
    "\n",
    "# Numerical Stability: In numerical computations, matrix inversion can sometimes lead to numerical instability, especially for matrices that are ill-conditioned or nearly singular. In such cases, specialized algorithms or regularization techniques may be employed to improve numerical stability\n",
    "# Regularization: In statistical modeling and machine learning, regularization techniques such as ridge regression involve the use of the inverse of a matrix. Regularization helps to prevent overfitting by penalizing large coefficients, and the inverse is involved in the computation of the regularized coefficients.\n"
   ]
  },
  {
   "cell_type": "raw",
   "id": "79283112-f9c0-4fbe-b46e-b57654894faf",
   "metadata": {},
   "source": [
    "# 14. What does the np.reshape function do, and how is it used ?\n",
    ">>The np.reshape function in NumPy is used to change the shape (dimensions) of an array without changing its data\n",
    ">>It allows you to reorganize the elements of an array into a new shape while preserving the total number of elements. \n",
    ">>This function is particularly useful when you need to transform arrays to match the input requirements of certain functions or algorithms."
   ]
  },
  {
   "cell_type": "code",
   "execution_count": 40,
   "id": "3a65cfff-71a7-482e-843e-ab7bc979f70a",
   "metadata": {},
   "outputs": [],
   "source": [
    "arr = np.array([[1,2,3],[4,5,6]])"
   ]
  },
  {
   "cell_type": "code",
   "execution_count": 41,
   "id": "3b8844ed-da9f-454c-86f8-300e8e89bce2",
   "metadata": {},
   "outputs": [
    {
     "data": {
      "text/plain": [
       "array([[1, 2],\n",
       "       [3, 4],\n",
       "       [5, 6]])"
      ]
     },
     "execution_count": 41,
     "metadata": {},
     "output_type": "execute_result"
    }
   ],
   "source": [
    "np.reshape(arr,(3,2))"
   ]
  },
  {
   "cell_type": "code",
   "execution_count": 42,
   "id": "4ce8ff0f-2c8b-41ba-bea7-a37055b7598e",
   "metadata": {},
   "outputs": [
    {
     "ename": "SyntaxError",
     "evalue": "unterminated string literal (detected at line 5) (2389457673.py, line 5)",
     "output_type": "error",
     "traceback": [
      "\u001b[0;36m  Cell \u001b[0;32mIn[42], line 5\u001b[0;36m\u001b[0m\n\u001b[0;31m    >>Here's how broadcasting works:\u001b[0m\n\u001b[0m          ^\u001b[0m\n\u001b[0;31mSyntaxError\u001b[0m\u001b[0;31m:\u001b[0m unterminated string literal (detected at line 5)\n"
     ]
    }
   ],
   "source": [
    "# 15. What is broadcasting in Numpy?\n",
    "# >>Broadcasting in NumPy is a powerful mechanism that allows arrays of different shapes to be combined together in element-wise operations\n",
    "# >>. It simplifies the process of performing arithmetic operations between arrays of different shapes without explicitly reshaping them to match.\n",
    "\n",
    ">>Here's how broadcasting works:\n",
    "# >>Dimensions Compatibility: Broadcasting starts by comparing the dimensions of the input arrays element-wise, starting from the trailing dimensions. It checks if the dimensions are compatible or if one of the dimensions is 1\n",
    "# >>Padding: If the dimensions are compatible or if one of them is 1, NumPy automatically pads the smaller array with copies of itself along the dimensions that are 1, effectively making the arrays compatible for the operation.\n",
    "# >>Element-wise Operation: Once the arrays are compatible in shape, NumPy performs the element-wise operation as if the arrays were of the same shape."
   ]
  },
  {
   "cell_type": "code",
   "execution_count": 43,
   "id": "8cc43b96-7a82-4b1c-8d9d-d4bd8c6ece0c",
   "metadata": {},
   "outputs": [
    {
     "data": {
      "text/plain": [
       "array([[1, 2, 3],\n",
       "       [4, 5, 6]])"
      ]
     },
     "execution_count": 43,
     "metadata": {},
     "output_type": "execute_result"
    }
   ],
   "source": [
    "##example of broad casting\n",
    "prin"
   ]
  },
  {
   "cell_type": "code",
   "execution_count": null,
   "id": "38bc143d-68e9-45f9-a485-07fa93699f59",
   "metadata": {},
   "outputs": [],
   "source": []
  },
  {
   "cell_type": "code",
   "execution_count": null,
   "id": "a1ccda69-e70c-47f7-a500-ca737b32fa77",
   "metadata": {},
   "outputs": [],
   "source": []
  },
  {
   "cell_type": "code",
   "execution_count": null,
   "id": "021c4943-e0a6-41e7-890c-ba582ed92872",
   "metadata": {},
   "outputs": [],
   "source": []
  },
  {
   "cell_type": "code",
   "execution_count": null,
   "id": "64f7743b-8f38-477c-b9d7-c5d2698f7635",
   "metadata": {},
   "outputs": [],
   "source": []
  },
  {
   "cell_type": "code",
   "execution_count": null,
   "id": "538e6d2e-3f0b-488c-801a-c27659e853f8",
   "metadata": {},
   "outputs": [],
   "source": []
  },
  {
   "cell_type": "code",
   "execution_count": null,
   "id": "982dee60-f4a8-481f-bd7d-0461816eeaed",
   "metadata": {},
   "outputs": [],
   "source": []
  },
  {
   "cell_type": "code",
   "execution_count": null,
   "id": "7ef72b87-a1a8-4b90-863c-2e3a2e20f1a5",
   "metadata": {},
   "outputs": [],
   "source": []
  },
  {
   "cell_type": "code",
   "execution_count": null,
   "id": "d0ecf1bd-8463-4d13-b7fc-d98fff01c910",
   "metadata": {},
   "outputs": [],
   "source": []
  },
  {
   "cell_type": "code",
   "execution_count": null,
   "id": "39caebcd-11e5-4b0a-a396-37d85c4f8166",
   "metadata": {},
   "outputs": [],
   "source": []
  },
  {
   "cell_type": "code",
   "execution_count": null,
   "id": "0348b135-c997-443b-9880-90405ac3b5ca",
   "metadata": {},
   "outputs": [],
   "source": []
  },
  {
   "cell_type": "code",
   "execution_count": null,
   "id": "96ffef94-52df-48d3-a196-8e049e574501",
   "metadata": {},
   "outputs": [],
   "source": []
  },
  {
   "cell_type": "code",
   "execution_count": null,
   "id": "0d294f9a-42ff-48d1-b156-17720a21c38b",
   "metadata": {},
   "outputs": [],
   "source": []
  },
  {
   "cell_type": "code",
   "execution_count": null,
   "id": "52b74d5e-0dca-461a-bb88-f875e4d6c111",
   "metadata": {},
   "outputs": [],
   "source": []
  },
  {
   "cell_type": "code",
   "execution_count": null,
   "id": "76a46daa-d683-4b79-8d3a-877534bab2c9",
   "metadata": {},
   "outputs": [],
   "source": []
  },
  {
   "cell_type": "code",
   "execution_count": null,
   "id": "a76f9bad-b970-46fe-9a0d-0119bdd26790",
   "metadata": {},
   "outputs": [],
   "source": []
  },
  {
   "cell_type": "code",
   "execution_count": null,
   "id": "8eeea3f7-5b26-46e8-a9ff-25d14f9681a6",
   "metadata": {},
   "outputs": [],
   "source": []
  },
  {
   "cell_type": "code",
   "execution_count": null,
   "id": "a4a5c744-2bdf-40d7-89b2-485b7c7fdeea",
   "metadata": {},
   "outputs": [],
   "source": []
  },
  {
   "cell_type": "code",
   "execution_count": null,
   "id": "772b158d-513a-448e-83d0-58b0c4b46d10",
   "metadata": {},
   "outputs": [],
   "source": []
  },
  {
   "cell_type": "code",
   "execution_count": null,
   "id": "edb20fd4-eb73-4d1e-8236-c06863d68e11",
   "metadata": {},
   "outputs": [],
   "source": []
  },
  {
   "cell_type": "code",
   "execution_count": null,
   "id": "c1a8b718-265d-4b59-ad21-0480362b290c",
   "metadata": {},
   "outputs": [],
   "source": []
  },
  {
   "cell_type": "code",
   "execution_count": null,
   "id": "67424c6d-167e-49a8-9da2-21a5631d839e",
   "metadata": {},
   "outputs": [],
   "source": []
  },
  {
   "cell_type": "code",
   "execution_count": null,
   "id": "2b7e9338-469e-4aa2-9fbe-6b22dc0c28cc",
   "metadata": {},
   "outputs": [],
   "source": []
  },
  {
   "cell_type": "code",
   "execution_count": null,
   "id": "db123e5e-5e63-4613-afa7-2534407671a4",
   "metadata": {},
   "outputs": [],
   "source": []
  },
  {
   "cell_type": "code",
   "execution_count": null,
   "id": "b77edea6-08a6-4d8a-b82b-1eb3be30d1e4",
   "metadata": {},
   "outputs": [],
   "source": []
  },
  {
   "cell_type": "code",
   "execution_count": null,
   "id": "6c5aff14-6e83-44da-bdbe-b346c5d9978a",
   "metadata": {},
   "outputs": [],
   "source": []
  },
  {
   "cell_type": "code",
   "execution_count": null,
   "id": "a384a8cb-22f6-4aa7-a65d-9199a2117f94",
   "metadata": {},
   "outputs": [],
   "source": []
  },
  {
   "cell_type": "code",
   "execution_count": null,
   "id": "77ab00c3-c36d-40be-8316-2c3712a19194",
   "metadata": {},
   "outputs": [],
   "source": []
  },
  {
   "cell_type": "code",
   "execution_count": null,
   "id": "26858da4-6808-4dd1-993e-65d60e8fa6c7",
   "metadata": {},
   "outputs": [],
   "source": []
  },
  {
   "cell_type": "code",
   "execution_count": null,
   "id": "4eecc98b-8ba4-48b7-9670-156087b3f702",
   "metadata": {},
   "outputs": [],
   "source": []
  },
  {
   "cell_type": "code",
   "execution_count": null,
   "id": "7584924e-7d27-4b4d-b023-4b42a60f66ae",
   "metadata": {},
   "outputs": [],
   "source": []
  },
  {
   "cell_type": "code",
   "execution_count": null,
   "id": "a582b3fa-b43c-4429-957b-346e284ed488",
   "metadata": {},
   "outputs": [],
   "source": []
  },
  {
   "cell_type": "code",
   "execution_count": null,
   "id": "748f2646-bb22-48c2-9880-671221ba972c",
   "metadata": {},
   "outputs": [],
   "source": []
  },
  {
   "cell_type": "code",
   "execution_count": null,
   "id": "f362dd0b-454d-4d28-abd0-6e0e0a6aabd3",
   "metadata": {},
   "outputs": [],
   "source": []
  },
  {
   "cell_type": "code",
   "execution_count": null,
   "id": "4c6cce82-9589-4f53-a75d-2d11d6a14ca6",
   "metadata": {},
   "outputs": [],
   "source": []
  },
  {
   "cell_type": "code",
   "execution_count": null,
   "id": "d6fbb30c-c3e3-40f0-981a-9d8475ccb0b0",
   "metadata": {},
   "outputs": [],
   "source": []
  },
  {
   "cell_type": "code",
   "execution_count": null,
   "id": "177ef0b0-9dac-47f0-b560-8212d54e3f56",
   "metadata": {},
   "outputs": [],
   "source": []
  },
  {
   "cell_type": "code",
   "execution_count": null,
   "id": "2c52c35f-cb89-40e8-900e-29f1872d0683",
   "metadata": {},
   "outputs": [],
   "source": []
  },
  {
   "cell_type": "code",
   "execution_count": null,
   "id": "73fa289c-eb7f-432e-b665-750292c629c0",
   "metadata": {},
   "outputs": [],
   "source": []
  }
 ],
 "metadata": {
  "kernelspec": {
   "display_name": "Python 3 (ipykernel)",
   "language": "python",
   "name": "python3"
  },
  "language_info": {
   "codemirror_mode": {
    "name": "ipython",
    "version": 3
   },
   "file_extension": ".py",
   "mimetype": "text/x-python",
   "name": "python",
   "nbconvert_exporter": "python",
   "pygments_lexer": "ipython3",
   "version": "3.10.8"
  }
 },
 "nbformat": 4,
 "nbformat_minor": 5
}
